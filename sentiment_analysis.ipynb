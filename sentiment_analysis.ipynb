{
 "cells": [
  {
   "cell_type": "markdown",
   "metadata": {},
   "source": [
    "Sentiment analysis"
   ]
  },
  {
   "cell_type": "markdown",
   "metadata": {},
   "source": [
    "VADER"
   ]
  },
  {
   "cell_type": "code",
   "execution_count": 10,
   "metadata": {},
   "outputs": [],
   "source": [
    "import pandas as pd\n",
    "import re\n",
    "from vaderSentiment.vaderSentiment import SentimentIntensityAnalyzer"
   ]
  },
  {
   "cell_type": "code",
   "execution_count": 14,
   "metadata": {},
   "outputs": [],
   "source": [
    "df = pd.read_csv(\"data/stock_tweets.csv\")\n",
    "\n",
    "# Data Preprocessing to remove noise\n",
    "def clean_tweet(text):\n",
    "    # Remove mentions\n",
    "    text = re.sub(r'@\\w+', '', text)\n",
    "    # Remove hashtags\n",
    "    text = re.sub(r'#\\w+', '', text)\n",
    "    # Remove URLs\n",
    "    text = re.sub(r'http\\S+|www\\S+', '', text)\n",
    "    # Remove emojis using Unicode ranges\n",
    "    text = re.sub(r'[\\U0001F600-\\U0001F64F'\n",
    "                  r'\\U0001F300-\\U0001F5FF'\n",
    "                  r'\\U0001F680-\\U0001F6FF'\n",
    "                  r'\\U0001F700-\\U0001F77F'\n",
    "                  r'\\U0001F780-\\U0001F7FF'\n",
    "                  r'\\U0001F800-\\U0001F8FF'\n",
    "                  r'\\U0001F900-\\U0001F9FF'\n",
    "                  r'\\U0001FA00-\\U0001FA6F'\n",
    "                  r'\\U0001FA70-\\U0001FAFF'\n",
    "                  r'\\U00002702-\\U000027B0'\n",
    "                  r'\\U000024C2-\\U0001F251]', '', text)\n",
    "    return text.strip()\n",
    "\n",
    "\n",
    "# Apply the function to the \"tweet\" column\n",
    "df['Tweet'] = df['Tweet'].apply(clean_tweet)\n",
    "\n",
    "df.head()\n",
    "#For testing purposes\n",
    "df.to_csv(\"new_tweets.csv\", index=False)"
   ]
  },
  {
   "cell_type": "code",
   "execution_count": 15,
   "metadata": {},
   "outputs": [],
   "source": [
    "sentiment = SentimentIntensityAnalyzer()\n",
    "\n",
    "def get_sentiment_score(text):\n",
    "    return sentiment.polarity_scores(text)['compound']\n",
    "\n",
    "df['sentiment_score'] = df['Tweet'].apply(get_sentiment_score)\n",
    "\n"
   ]
  },
  {
   "cell_type": "code",
   "execution_count": 31,
   "metadata": {},
   "outputs": [
    {
     "data": {
      "text/html": [
       "<div>\n",
       "<style scoped>\n",
       "    .dataframe tbody tr th:only-of-type {\n",
       "        vertical-align: middle;\n",
       "    }\n",
       "\n",
       "    .dataframe tbody tr th {\n",
       "        vertical-align: top;\n",
       "    }\n",
       "\n",
       "    .dataframe thead th {\n",
       "        text-align: right;\n",
       "    }\n",
       "</style>\n",
       "<table border=\"1\" class=\"dataframe\">\n",
       "  <thead>\n",
       "    <tr style=\"text-align: right;\">\n",
       "      <th></th>\n",
       "      <th>Date</th>\n",
       "      <th>Tweet</th>\n",
       "      <th>Stock Name</th>\n",
       "      <th>Company Name</th>\n",
       "      <th>sentiment_score</th>\n",
       "    </tr>\n",
       "  </thead>\n",
       "  <tbody>\n",
       "    <tr>\n",
       "      <th>20578</th>\n",
       "      <td>2022-02-20 08:18:20+00:00</td>\n",
       "      <td>Cybertruck</td>\n",
       "      <td>TSLA</td>\n",
       "      <td>Tesla, Inc.</td>\n",
       "      <td>0.0000</td>\n",
       "    </tr>\n",
       "    <tr>\n",
       "      <th>24627</th>\n",
       "      <td>2022-01-13 20:46:53+00:00</td>\n",
       "      <td>10yr TY and $TSLA fell together today, as the ...</td>\n",
       "      <td>TSLA</td>\n",
       "      <td>Tesla, Inc.</td>\n",
       "      <td>0.3470</td>\n",
       "    </tr>\n",
       "    <tr>\n",
       "      <th>66566</th>\n",
       "      <td>2022-04-30 01:09:58+00:00</td>\n",
       "      <td>playing against  !!</td>\n",
       "      <td>TSM</td>\n",
       "      <td>Taiwan Semiconductor Manufacturing Company Lim...</td>\n",
       "      <td>0.3365</td>\n",
       "    </tr>\n",
       "    <tr>\n",
       "      <th>75873</th>\n",
       "      <td>2022-06-13 21:34:53+00:00</td>\n",
       "      <td>Gouging at the Boeing credit default swap desk...</td>\n",
       "      <td>BA</td>\n",
       "      <td>The Boeing Company</td>\n",
       "      <td>0.5255</td>\n",
       "    </tr>\n",
       "    <tr>\n",
       "      <th>58922</th>\n",
       "      <td>2022-03-12 14:39:05+00:00</td>\n",
       "      <td>$AAPL is 6.9% of $SPY</td>\n",
       "      <td>AAPL</td>\n",
       "      <td>Apple Inc.</td>\n",
       "      <td>0.0000</td>\n",
       "    </tr>\n",
       "  </tbody>\n",
       "</table>\n",
       "</div>"
      ],
      "text/plain": [
       "                            Date  \\\n",
       "20578  2022-02-20 08:18:20+00:00   \n",
       "24627  2022-01-13 20:46:53+00:00   \n",
       "66566  2022-04-30 01:09:58+00:00   \n",
       "75873  2022-06-13 21:34:53+00:00   \n",
       "58922  2022-03-12 14:39:05+00:00   \n",
       "\n",
       "                                                   Tweet Stock Name  \\\n",
       "20578                                         Cybertruck       TSLA   \n",
       "24627  10yr TY and $TSLA fell together today, as the ...       TSLA   \n",
       "66566                                playing against  !!        TSM   \n",
       "75873  Gouging at the Boeing credit default swap desk...         BA   \n",
       "58922                              $AAPL is 6.9% of $SPY       AAPL   \n",
       "\n",
       "                                            Company Name  sentiment_score  \n",
       "20578                                        Tesla, Inc.           0.0000  \n",
       "24627                                        Tesla, Inc.           0.3470  \n",
       "66566  Taiwan Semiconductor Manufacturing Company Lim...           0.3365  \n",
       "75873                                 The Boeing Company           0.5255  \n",
       "58922                                         Apple Inc.           0.0000  "
      ]
     },
     "execution_count": 31,
     "metadata": {},
     "output_type": "execute_result"
    }
   ],
   "source": [
    "df.sample(n=5)"
   ]
  }
 ],
 "metadata": {
  "kernelspec": {
   "display_name": "Python 3",
   "language": "python",
   "name": "python3"
  },
  "language_info": {
   "codemirror_mode": {
    "name": "ipython",
    "version": 3
   },
   "file_extension": ".py",
   "mimetype": "text/x-python",
   "name": "python",
   "nbconvert_exporter": "python",
   "pygments_lexer": "ipython3",
   "version": "3.10.6"
  }
 },
 "nbformat": 4,
 "nbformat_minor": 2
}
